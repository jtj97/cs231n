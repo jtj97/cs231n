{
 "cells": [
  {
   "cell_type": "code",
   "execution_count": 1,
   "id": "161a3aa0",
   "metadata": {},
   "outputs": [],
   "source": [
    "FOLDERNAME = \"assignment1\"\n",
    "assert FOLDERNAME is not None, \"[!] Enter the foldername.\"\n",
    "\n",
    "# Now that we've mounted your Drive, this ensures that\n",
    "# the Python interpreter of the Colab VM can load\n",
    "# python files from within it.\n",
    "import sys\n",
    "sys.path.append('/home/jintaoj/cs231n/{}'.format(FOLDERNAME))"
   ]
  },
  {
   "cell_type": "markdown",
   "id": "26fdca1c",
   "metadata": {
    "tags": [
     "pdf-title"
    ]
   },
   "source": [
    "# Softmax exercise\n",
    "\n",
    "*Complete and hand in this completed worksheet (including its outputs and any supporting code outside of the worksheet) with your assignment submission. For more details see the [assignments page](http://vision.stanford.edu/teaching/cs231n/assignments.html) on the course website.*\n",
    "\n",
    "This exercise is analogous to the SVM exercise. You will:\n",
    "\n",
    "- implement a fully-vectorized **loss function** for the Softmax classifier\n",
    "- implement the fully-vectorized expression for its **analytic gradient**\n",
    "- **check your implementation** with numerical gradient\n",
    "- use a validation set to **tune the learning rate and regularization** strength\n",
    "- **optimize** the loss function with **SGD**\n",
    "- **visualize** the final learned weights\n"
   ]
  },
  {
   "cell_type": "code",
   "execution_count": 2,
   "id": "1f12280f",
   "metadata": {
    "tags": [
     "pdf-ignore"
    ]
   },
   "outputs": [],
   "source": [
    "import random\n",
    "import numpy as np\n",
    "from cs231n.data_utils import load_CIFAR10\n",
    "import matplotlib.pyplot as plt\n",
    "\n",
    "%matplotlib inline\n",
    "plt.rcParams['figure.figsize'] = (10.0, 8.0) # set default size of plots\n",
    "plt.rcParams['image.interpolation'] = 'nearest'\n",
    "plt.rcParams['image.cmap'] = 'gray'\n",
    "\n",
    "# for auto-reloading extenrnal modules\n",
    "# see http://stackoverflow.com/questions/1907993/autoreload-of-modules-in-ipython\n",
    "%load_ext autoreload\n",
    "%autoreload 2"
   ]
  },
  {
   "cell_type": "code",
   "execution_count": 3,
   "id": "ab106c82",
   "metadata": {
    "tags": [
     "pdf-ignore"
    ]
   },
   "outputs": [
    {
     "name": "stdout",
     "output_type": "stream",
     "text": [
      "Train data shape:  (49000, 3073)\n",
      "Train labels shape:  (49000,)\n",
      "Validation data shape:  (1000, 3073)\n",
      "Validation labels shape:  (1000,)\n",
      "Test data shape:  (1000, 3073)\n",
      "Test labels shape:  (1000,)\n",
      "dev data shape:  (500, 3073)\n",
      "dev labels shape:  (500,)\n"
     ]
    }
   ],
   "source": [
    "def get_CIFAR10_data(num_training=49000, num_validation=1000, num_test=1000, num_dev=500):\n",
    "    \"\"\"\n",
    "    Load the CIFAR-10 dataset from disk and perform preprocessing to prepare\n",
    "    it for the linear classifier. These are the same steps as we used for the\n",
    "    SVM, but condensed to a single function.  \n",
    "    \"\"\"\n",
    "    # Load the raw CIFAR-10 data\n",
    "    cifar10_dir = 'cs231n/datasets/cifar-10-batches-py'\n",
    "    \n",
    "    # Cleaning up variables to prevent loading data multiple times (which may cause memory issue)\n",
    "    try:\n",
    "       del X_train, y_train\n",
    "       del X_test, y_test\n",
    "       print('Clear previously loaded data.')\n",
    "    except:\n",
    "       pass\n",
    "\n",
    "    X_train, y_train, X_test, y_test = load_CIFAR10(cifar10_dir)\n",
    "    \n",
    "    # subsample the data\n",
    "    mask = list(range(num_training, num_training + num_validation))\n",
    "    X_val = X_train[mask]\n",
    "    y_val = y_train[mask]\n",
    "    mask = list(range(num_training))\n",
    "    X_train = X_train[mask]\n",
    "    y_train = y_train[mask]\n",
    "    mask = list(range(num_test))\n",
    "    X_test = X_test[mask]\n",
    "    y_test = y_test[mask]\n",
    "    mask = np.random.choice(num_training, num_dev, replace=False)\n",
    "    X_dev = X_train[mask]\n",
    "    y_dev = y_train[mask]\n",
    "    \n",
    "    # Preprocessing: reshape the image data into rows\n",
    "    X_train = np.reshape(X_train, (X_train.shape[0], -1))\n",
    "    X_val = np.reshape(X_val, (X_val.shape[0], -1))\n",
    "    X_test = np.reshape(X_test, (X_test.shape[0], -1))\n",
    "    X_dev = np.reshape(X_dev, (X_dev.shape[0], -1))\n",
    "    \n",
    "    # Normalize the data: subtract the mean image\n",
    "    mean_image = np.mean(X_train, axis = 0)\n",
    "    X_train -= mean_image\n",
    "    X_val -= mean_image\n",
    "    X_test -= mean_image\n",
    "    X_dev -= mean_image\n",
    "    \n",
    "    # add bias dimension and transform into columns\n",
    "    X_train = np.hstack([X_train, np.ones((X_train.shape[0], 1))])\n",
    "    X_val = np.hstack([X_val, np.ones((X_val.shape[0], 1))])\n",
    "    X_test = np.hstack([X_test, np.ones((X_test.shape[0], 1))])\n",
    "    X_dev = np.hstack([X_dev, np.ones((X_dev.shape[0], 1))])\n",
    "    \n",
    "    return X_train, y_train, X_val, y_val, X_test, y_test, X_dev, y_dev\n",
    "\n",
    "\n",
    "# Invoke the above function to get our data.\n",
    "X_train, y_train, X_val, y_val, X_test, y_test, X_dev, y_dev = get_CIFAR10_data()\n",
    "print('Train data shape: ', X_train.shape)\n",
    "print('Train labels shape: ', y_train.shape)\n",
    "print('Validation data shape: ', X_val.shape)\n",
    "print('Validation labels shape: ', y_val.shape)\n",
    "print('Test data shape: ', X_test.shape)\n",
    "print('Test labels shape: ', y_test.shape)\n",
    "print('dev data shape: ', X_dev.shape)\n",
    "print('dev labels shape: ', y_dev.shape)"
   ]
  },
  {
   "cell_type": "markdown",
   "id": "4721c3cb",
   "metadata": {},
   "source": [
    "## Softmax Classifier\n",
    "\n",
    "Your code for this section will all be written inside `cs231n/classifiers/softmax.py`.\n"
   ]
  },
  {
   "cell_type": "code",
   "execution_count": 28,
   "id": "d42765cd",
   "metadata": {},
   "outputs": [
    {
     "name": "stdout",
     "output_type": "stream",
     "text": [
      "loss: 2.455000\n",
      "sanity check: 2.302585\n"
     ]
    }
   ],
   "source": [
    "# First implement the naive softmax loss function with nested loops.\n",
    "# Open the file cs231n/classifiers/softmax.py and implement the\n",
    "# softmax_loss_naive function.\n",
    "\n",
    "from cs231n.classifiers.softmax import softmax_loss_naive\n",
    "import time\n",
    "\n",
    "# Generate a random softmax weight matrix and use it to compute the loss.\n",
    "W = np.random.randn(3073, 10) * 0.0001\n",
    "loss, grad = softmax_loss_naive(W, X_dev, y_dev, 0.0)\n",
    "\n",
    "# As a rough sanity check, our loss should be something close to -log(0.1).\n",
    "print('loss: %f' % loss)\n",
    "print('sanity check: %f' % (-np.log(0.1)))"
   ]
  },
  {
   "attachments": {},
   "cell_type": "markdown",
   "id": "6f88764e",
   "metadata": {
    "tags": [
     "pdf-inline"
    ]
   },
   "source": [
    "**Inline Question 1**\n",
    "\n",
    "Why do we expect our loss to be close to -log(0.1)? Explain briefly.**\n",
    "\n",
    "$\\color{blue}{\\textit Your Answer:}$ *Fill this in* \n",
    "\n",
    "0.1 means 1/10. The number of classes is 10."
   ]
  },
  {
   "cell_type": "code",
   "execution_count": 43,
   "id": "4c2626ef",
   "metadata": {},
   "outputs": [
    {
     "name": "stdout",
     "output_type": "stream",
     "text": [
      "numerical: 4.897989 analytic: 4.897989, relative error: 1.590456e-08\n",
      "numerical: -4.568552 analytic: -4.568552, relative error: 1.609786e-09\n",
      "numerical: -6.598357 analytic: -6.598357, relative error: 9.610814e-09\n",
      "numerical: -0.723153 analytic: -0.723153, relative error: 1.455929e-08\n",
      "numerical: 1.894359 analytic: 1.894359, relative error: 1.899978e-08\n",
      "numerical: 2.216386 analytic: 2.216386, relative error: 5.191896e-09\n",
      "numerical: 7.051285 analytic: 7.051285, relative error: 1.257786e-08\n",
      "numerical: 3.129382 analytic: 3.129382, relative error: 6.729521e-09\n",
      "numerical: -0.555673 analytic: -0.555673, relative error: 5.686797e-08\n",
      "numerical: 0.395412 analytic: 0.395412, relative error: 1.023443e-07\n",
      "numerical: 2.602455 analytic: 2.602455, relative error: 3.749238e-09\n",
      "numerical: 1.093415 analytic: 1.093414, relative error: 4.538780e-08\n",
      "numerical: 3.227147 analytic: 3.227146, relative error: 2.391161e-08\n",
      "numerical: 4.241314 analytic: 4.241314, relative error: 1.155432e-09\n",
      "numerical: 0.994272 analytic: 0.994272, relative error: 4.354074e-08\n",
      "numerical: -0.722737 analytic: -0.722737, relative error: 6.889271e-08\n",
      "numerical: 0.837231 analytic: 0.837231, relative error: 3.833299e-09\n",
      "numerical: 2.037682 analytic: 2.037682, relative error: 2.930060e-08\n",
      "numerical: -5.156021 analytic: -5.156021, relative error: 4.007472e-09\n",
      "numerical: 2.486673 analytic: 2.486673, relative error: 2.586790e-08\n"
     ]
    }
   ],
   "source": [
    "# Complete the implementation of softmax_loss_naive and implement a (naive)\n",
    "# version of the gradient that uses nested loops.\n",
    "loss, grad = softmax_loss_naive(W, X_dev, y_dev, 0.0)\n",
    "\n",
    "# As we did for the SVM, use numeric gradient checking as a debugging tool.\n",
    "# The numeric gradient should be close to the analytic gradient.\n",
    "from cs231n.gradient_check import grad_check_sparse\n",
    "f = lambda w: softmax_loss_naive(w, X_dev, y_dev, 0.0)[0]\n",
    "grad_numerical = grad_check_sparse(f, W, grad, 10)\n",
    "\n",
    "# similar to SVM case, do another gradient check with regularization\n",
    "loss, grad = softmax_loss_naive(W, X_dev, y_dev, 5e1)\n",
    "f = lambda w: softmax_loss_naive(w, X_dev, y_dev, 5e1)[0]\n",
    "grad_numerical = grad_check_sparse(f, W, grad, 10)"
   ]
  },
  {
   "cell_type": "code",
   "execution_count": 60,
   "id": "434e757f",
   "metadata": {},
   "outputs": [
    {
     "name": "stdout",
     "output_type": "stream",
     "text": [
      "naive loss: 2.455000e+00 computed in 0.067953s\n",
      "vectorized loss: 2.455000e+00 computed in 0.006711s\n",
      "Loss difference: 0.000000\n",
      "Gradient difference: 0.000000\n"
     ]
    }
   ],
   "source": [
    "# Now that we have a naive implementation of the softmax loss function and its gradient,\n",
    "# implement a vectorized version in softmax_loss_vectorized.\n",
    "# The two versions should compute the same results, but the vectorized version should be\n",
    "# much faster.\n",
    "tic = time.time()\n",
    "loss_naive, grad_naive = softmax_loss_naive(W, X_dev, y_dev, 0.000005)\n",
    "toc = time.time()\n",
    "print('naive loss: %e computed in %fs' % (loss_naive, toc - tic))\n",
    "\n",
    "from cs231n.classifiers.softmax import softmax_loss_vectorized\n",
    "tic = time.time()\n",
    "loss_vectorized, grad_vectorized = softmax_loss_vectorized(W, X_dev, y_dev, 0.000005)\n",
    "toc = time.time()\n",
    "print('vectorized loss: %e computed in %fs' % (loss_vectorized, toc - tic))\n",
    "\n",
    "# As we did for the SVM, we use the Frobenius norm to compare the two versions\n",
    "# of the gradient.\n",
    "grad_difference = np.linalg.norm(grad_naive - grad_vectorized, ord='fro')\n",
    "print('Loss difference: %f' % np.abs(loss_naive - loss_vectorized))\n",
    "print('Gradient difference: %f' % grad_difference)"
   ]
  },
  {
   "cell_type": "code",
   "execution_count": 64,
   "id": "2e5e374d",
   "metadata": {
    "tags": [
     "code"
    ],
    "test": "tuning"
   },
   "outputs": [
    {
     "name": "stdout",
     "output_type": "stream",
     "text": [
      "iteration 0 / 1500: loss 312.299687\n",
      "iteration 100 / 1500: loss 208.432472\n",
      "iteration 200 / 1500: loss 139.836669\n",
      "iteration 300 / 1500: loss 94.057653\n",
      "iteration 400 / 1500: loss 63.691537\n",
      "iteration 500 / 1500: loss 43.213126\n",
      "iteration 600 / 1500: loss 29.596779\n",
      "iteration 700 / 1500: loss 20.364019\n",
      "iteration 800 / 1500: loss 14.314574\n",
      "iteration 900 / 1500: loss 10.288024\n",
      "iteration 1000 / 1500: loss 7.452183\n",
      "iteration 1100 / 1500: loss 5.657648\n",
      "iteration 1200 / 1500: loss 4.485210\n",
      "iteration 1300 / 1500: loss 3.722595\n",
      "iteration 1400 / 1500: loss 3.119722\n",
      "iteration 0 / 1500: loss 158.206843\n",
      "iteration 100 / 1500: loss 128.487261\n",
      "iteration 200 / 1500: loss 105.008862\n",
      "iteration 300 / 1500: loss 86.202198\n",
      "iteration 400 / 1500: loss 70.933309\n",
      "iteration 500 / 1500: loss 58.108300\n",
      "iteration 600 / 1500: loss 47.915152\n",
      "iteration 700 / 1500: loss 39.401775\n",
      "iteration 800 / 1500: loss 32.622365\n",
      "iteration 900 / 1500: loss 27.005787\n",
      "iteration 1000 / 1500: loss 22.406035\n",
      "iteration 1100 / 1500: loss 18.699703\n",
      "iteration 1200 / 1500: loss 15.674240\n",
      "iteration 1300 / 1500: loss 13.152011\n",
      "iteration 1400 / 1500: loss 11.132018\n",
      "iteration 0 / 1500: loss 308.928415\n",
      "iteration 100 / 1500: loss 42.352508\n",
      "iteration 200 / 1500: loss 7.344646\n",
      "iteration 300 / 1500: loss 2.737162\n",
      "iteration 400 / 1500: loss 2.168608\n",
      "iteration 500 / 1500: loss 1.970447\n",
      "iteration 600 / 1500: loss 2.013586\n",
      "iteration 700 / 1500: loss 1.977708\n",
      "iteration 800 / 1500: loss 2.010862\n",
      "iteration 900 / 1500: loss 1.976966\n",
      "iteration 1000 / 1500: loss 1.977538\n",
      "iteration 1100 / 1500: loss 2.023262\n",
      "iteration 1200 / 1500: loss 2.034862\n",
      "iteration 1300 / 1500: loss 2.013909\n",
      "iteration 1400 / 1500: loss 2.030550\n",
      "iteration 0 / 1500: loss 161.996964\n",
      "iteration 100 / 1500: loss 59.260603\n",
      "iteration 200 / 1500: loss 22.651431\n",
      "iteration 300 / 1500: loss 9.607101\n",
      "iteration 400 / 1500: loss 4.698433\n",
      "iteration 500 / 1500: loss 2.979969\n",
      "iteration 600 / 1500: loss 2.270838\n",
      "iteration 700 / 1500: loss 2.046974\n",
      "iteration 800 / 1500: loss 2.051779\n",
      "iteration 900 / 1500: loss 1.948188\n",
      "iteration 1000 / 1500: loss 1.947617\n",
      "iteration 1100 / 1500: loss 1.978902\n",
      "iteration 1200 / 1500: loss 1.920129\n",
      "iteration 1300 / 1500: loss 1.972013\n",
      "iteration 1400 / 1500: loss 1.959218\n",
      "iteration 0 / 1500: loss 314.415382\n",
      "iteration 100 / 1500: loss 302.227838\n",
      "iteration 200 / 1500: loss 290.311191\n",
      "iteration 300 / 1500: loss 278.880033\n",
      "iteration 400 / 1500: loss 267.649612\n",
      "iteration 500 / 1500: loss 257.125343\n",
      "iteration 600 / 1500: loss 246.788499\n",
      "iteration 700 / 1500: loss 237.263951\n",
      "iteration 800 / 1500: loss 227.748925\n",
      "iteration 900 / 1500: loss 218.851668\n",
      "iteration 1000 / 1500: loss 210.473041\n",
      "iteration 1100 / 1500: loss 202.116826\n",
      "iteration 1200 / 1500: loss 194.208189\n",
      "iteration 1300 / 1500: loss 186.726217\n",
      "iteration 1400 / 1500: loss 179.437894\n",
      "iteration 0 / 1500: loss 159.147529\n",
      "iteration 100 / 1500: loss 155.400447\n",
      "iteration 200 / 1500: loss 152.435810\n",
      "iteration 300 / 1500: loss 149.416862\n",
      "iteration 400 / 1500: loss 145.881395\n",
      "iteration 500 / 1500: loss 143.304020\n",
      "iteration 600 / 1500: loss 139.990880\n",
      "iteration 700 / 1500: loss 137.742097\n",
      "iteration 800 / 1500: loss 134.621180\n",
      "iteration 900 / 1500: loss 131.566290\n",
      "iteration 1000 / 1500: loss 129.490142\n",
      "iteration 1100 / 1500: loss 126.740041\n",
      "iteration 1200 / 1500: loss 124.114779\n",
      "iteration 1300 / 1500: loss 121.783089\n",
      "iteration 1400 / 1500: loss 119.170415\n",
      "lr 1.000000e-08 reg 5.000000e+03 train accuracy: 0.144490 val accuracy: 0.155000\n",
      "lr 1.000000e-08 reg 1.000000e+04 train accuracy: 0.155898 val accuracy: 0.176000\n",
      "lr 1.000000e-07 reg 5.000000e+03 train accuracy: 0.335122 val accuracy: 0.361000\n",
      "lr 1.000000e-07 reg 1.000000e+04 train accuracy: 0.352388 val accuracy: 0.370000\n",
      "lr 5.000000e-07 reg 5.000000e+03 train accuracy: 0.371469 val accuracy: 0.387000\n",
      "lr 5.000000e-07 reg 1.000000e+04 train accuracy: 0.352245 val accuracy: 0.361000\n",
      "best validation accuracy achieved during cross-validation: 0.387000\n"
     ]
    }
   ],
   "source": [
    "# Use the validation set to tune hyperparameters (regularization strength and\n",
    "# learning rate). You should experiment with different ranges for the learning\n",
    "# rates and regularization strengths; if you are careful you should be able to\n",
    "# get a classification accuracy of over 0.35 on the validation set.\n",
    "\n",
    "from cs231n.classifiers import Softmax\n",
    "results = {}\n",
    "best_val = -1\n",
    "best_softmax = None\n",
    "\n",
    "################################################################################\n",
    "# TODO:                                                                        #\n",
    "# Use the validation set to set the learning rate and regularization strength. #\n",
    "# This should be identical to the validation that you did for the SVM; save    #\n",
    "# the best trained softmax classifer in best_softmax.                          #\n",
    "################################################################################\n",
    "\n",
    "# Provided as a reference. You may or may not want to change these hyperparameters\n",
    "learning_rates = [1e-7, 5e-7, 1e-8]\n",
    "regularization_strengths = [1e4, 5e3]\n",
    "\n",
    "# *****START OF YOUR CODE (DO NOT DELETE/MODIFY THIS LINE)*****\n",
    "\n",
    "for lr in learning_rates:\n",
    "    for rs in regularization_strengths:\n",
    "        softmax = Softmax()\n",
    "        softmax.train(X_train, y_train, learning_rate=lr, reg=rs,\n",
    "                      num_iters=1500, verbose=True)\n",
    "        y_train_pred = softmax.predict(X_train)\n",
    "        y_val_pred = softmax.predict(X_val)\n",
    "        acc_train = np.mean(y_train == y_train_pred)\n",
    "        acc_val = np.mean(y_val == y_val_pred)\n",
    "        key_tuple = (lr, rs)\n",
    "        val_tuple = (acc_train, acc_val)\n",
    "        results[key_tuple] = val_tuple\n",
    "        if(acc_val>best_val):\n",
    "            best_softmax = softmax\n",
    "            best_val = acc_val\n",
    "\n",
    "# *****END OF YOUR CODE (DO NOT DELETE/MODIFY THIS LINE)*****\n",
    "    \n",
    "# Print out results.\n",
    "for lr, reg in sorted(results):\n",
    "    train_accuracy, val_accuracy = results[(lr, reg)]\n",
    "    print('lr %e reg %e train accuracy: %f val accuracy: %f' % (\n",
    "                lr, reg, train_accuracy, val_accuracy))\n",
    "    \n",
    "print('best validation accuracy achieved during cross-validation: %f' % best_val)"
   ]
  },
  {
   "cell_type": "code",
   "execution_count": 65,
   "id": "deb37cc6",
   "metadata": {
    "test": "test"
   },
   "outputs": [
    {
     "name": "stdout",
     "output_type": "stream",
     "text": [
      "softmax on raw pixels final test set accuracy: 0.373000\n"
     ]
    }
   ],
   "source": [
    "# evaluate on test set\n",
    "# Evaluate the best softmax on test set\n",
    "y_test_pred = best_softmax.predict(X_test)\n",
    "test_accuracy = np.mean(y_test == y_test_pred)\n",
    "print('softmax on raw pixels final test set accuracy: %f' % (test_accuracy, ))"
   ]
  },
  {
   "attachments": {},
   "cell_type": "markdown",
   "id": "df501314",
   "metadata": {
    "tags": [
     "pdf-inline"
    ]
   },
   "source": [
    "**Inline Question 2** - *True or False*\n",
    "\n",
    "Suppose the overall training loss is defined as the sum of the per-datapoint loss over all training examples. It is possible to add a new datapoint to a training set that would leave the SVM loss unchanged, but this is not the case with the Softmax classifier loss.\n",
    "\n",
    "$\\color{blue}{\\textit Your Answer:}$\n",
    "True\n",
    "\n",
    "$\\color{blue}{\\textit Your Explanation:}$\n",
    "因为SVM中一个点贡献的loss可能为0，但在softmax中，为(0, +无穷)\n"
   ]
  },
  {
   "cell_type": "code",
   "execution_count": 66,
   "id": "ade33adc",
   "metadata": {},
   "outputs": [
    {
     "data": {
      "image/png": "[encoded data removed]",
      "text/plain": [
       "<Figure size 1000x800 with 10 Axes>"
      ]
     },
     "metadata": {},
     "output_type": "display_data"
    }
   ],
   "source": [
    "# Visualize the learned weights for each class\n",
    "w = best_softmax.W[:-1,:] # strip out the bias\n",
    "w = w.reshape(32, 32, 3, 10)\n",
    "\n",
    "w_min, w_max = np.min(w), np.max(w)\n",
    "\n",
    "classes = ['plane', 'car', 'bird', 'cat', 'deer', 'dog', 'frog', 'horse', 'ship', 'truck']\n",
    "for i in range(10):\n",
    "    plt.subplot(2, 5, i + 1)\n",
    "    \n",
    "    # Rescale the weights to be between 0 and 255\n",
    "    wimg = 255.0 * (w[:, :, :, i].squeeze() - w_min) / (w_max - w_min)\n",
    "    plt.imshow(wimg.astype('uint8'))\n",
    "    plt.axis('off')\n",
    "    plt.title(classes[i])"
   ]
  },
  {
   "cell_type": "code",
   "execution_count": null,
   "id": "4d5d17f8",
   "metadata": {},
   "outputs": [],
   "source": []
  }
 ],
 "metadata": {
  "kernelspec": {
   "display_name": "Python 3.7.12 ('cs231n')",
   "language": "python",
   "name": "python3"
  },
  "language_info": {
   "codemirror_mode": {
    "name": "ipython",
    "version": 3
   },
   "file_extension": ".py",
   "mimetype": "text/x-python",
   "name": "python",
   "nbconvert_exporter": "python",
   "pygments_lexer": "ipython3",
   "version": "3.7.12"
  },
  "vscode": {
   "interpreter": {
    "hash": "cf8369b53811667b3729ac73bc5ae6fc3d574dde2e077907d2001de135b0790f"
   }
  }
 },
 "nbformat": 4,
 "nbformat_minor": 5
}
